{
 "cells": [
  {
   "cell_type": "markdown",
   "id": "5f8a68b1",
   "metadata": {},
   "source": [
    "### Alachua County, Florida"
   ]
  },
  {
   "cell_type": "code",
   "execution_count": 1,
   "id": "4f0156e8",
   "metadata": {},
   "outputs": [
    {
     "name": "stderr",
     "output_type": "stream",
     "text": [
      "C:\\Users\\Kaifa Lu\\AppData\\Local\\Temp\\ipykernel_37592\\498930221.py:3: UserWarning: The `geometries` module and `geometries_from_X` functions have been renamed the `features` module and `features_from_X` functions. Use these instead. The `geometries` module and function names are deprecated and will be removed in a future release.\n",
      "  pois = ox.geometries_from_place(place_name, tags={'amenity': True})\n"
     ]
    }
   ],
   "source": [
    "import osmnx as ox\n",
    "place_name = \"Washington DC, USA\"\n",
    "pois = ox.geometries_from_place(place_name, tags={'amenity': True})"
   ]
  },
  {
   "cell_type": "code",
   "execution_count": 2,
   "id": "766a46e6",
   "metadata": {},
   "outputs": [
    {
     "data": {
      "text/plain": [
       "15919"
      ]
     },
     "execution_count": 2,
     "metadata": {},
     "output_type": "execute_result"
    }
   ],
   "source": [
    "len(pois)"
   ]
  },
  {
   "cell_type": "code",
   "execution_count": 3,
   "id": "d7d19f19",
   "metadata": {},
   "outputs": [
    {
     "data": {
      "text/plain": [
       "128"
      ]
     },
     "execution_count": 3,
     "metadata": {},
     "output_type": "execute_result"
    }
   ],
   "source": [
    "len(pois['amenity'].unique())"
   ]
  },
  {
   "cell_type": "markdown",
   "id": "0986a220",
   "metadata": {},
   "source": [
    "### Alachua County, Florida"
   ]
  },
  {
   "cell_type": "code",
   "execution_count": 4,
   "id": "d0a5396c",
   "metadata": {
    "scrolled": true
   },
   "outputs": [
    {
     "name": "stderr",
     "output_type": "stream",
     "text": [
      "C:\\Users\\Kaifa Lu\\AppData\\Local\\Temp\\ipykernel_37592\\1658382189.py:7: UserWarning: The `geometries` module and `geometries_from_X` functions have been renamed the `features` module and `features_from_X` functions. Use these instead. The `geometries` module and function names are deprecated and will be removed in a future release.\n",
      "  pois = ox.geometries_from_place(place_name, tags={'amenity': True})\n"
     ]
    },
    {
     "name": "stdout",
     "output_type": "stream",
     "text": [
      "                                 amenity                    geometry  ele  \\\n",
      "element_type osmid                                                          \n",
      "node         84910124   parking_entrance  POINT (-82.32921 29.65110)  NaN   \n",
      "             358693043  place_of_worship  POINT (-82.30566 29.62719)   35   \n",
      "             358695208  place_of_worship  POINT (-82.09704 29.63108)   41   \n",
      "             358696695  place_of_worship  POINT (-82.34760 29.61358)   27   \n",
      "             358698689            school  POINT (-82.27149 29.64719)   35   \n",
      "\n",
      "                       gnis:county_id gnis:created gnis:feature_id  \\\n",
      "element_type osmid                                                   \n",
      "node         84910124             NaN          NaN             NaN   \n",
      "             358693043            001   10/19/1979          279862   \n",
      "             358695208            001   10/19/1979          282079   \n",
      "             358696695            001   10/19/1979          283250   \n",
      "             358698689            001   10/19/1979          285240   \n",
      "\n",
      "                       gnis:state_id                            name  \\\n",
      "element_type osmid                                                     \n",
      "node         84910124            NaN                             NaN   \n",
      "             358693043            12                  Calvary Church   \n",
      "             358695208            12             Eden Baptist Church   \n",
      "             358696695            12  Grace Primitive Baptist Church   \n",
      "             358698689            12   Lake Forest Elementary School   \n",
      "\n",
      "                         religion denomination  ... scuba_diving:courses  \\\n",
      "element_type osmid                              ...                        \n",
      "node         84910124         NaN          NaN  ...                  NaN   \n",
      "             358693043  christian          NaN  ...                  NaN   \n",
      "             358695208  christian      baptist  ...                  NaN   \n",
      "             358696695  christian      baptist  ...                  NaN   \n",
      "             358698689        NaN          NaN  ...                  NaN   \n",
      "\n",
      "                       scuba_diving:filling scuba_diving:nitrox_filling  \\\n",
      "element_type osmid                                                        \n",
      "node         84910124                   NaN                         NaN   \n",
      "             358693043                  NaN                         NaN   \n",
      "             358695208                  NaN                         NaN   \n",
      "             358696695                  NaN                         NaN   \n",
      "             358698689                  NaN                         NaN   \n",
      "\n",
      "                       scuba_diving:oxygen_filling scuba_diving:rental  \\\n",
      "element_type osmid                                                       \n",
      "node         84910124                          NaN                 NaN   \n",
      "             358693043                         NaN                 NaN   \n",
      "             358695208                         NaN                 NaN   \n",
      "             358696695                         NaN                 NaN   \n",
      "             358698689                         NaN                 NaN   \n",
      "\n",
      "                       scuba_diving:repair scuba_diving:trimix_filling  \\\n",
      "element_type osmid                                                       \n",
      "node         84910124                  NaN                         NaN   \n",
      "             358693043                 NaN                         NaN   \n",
      "             358695208                 NaN                         NaN   \n",
      "             358696695                 NaN                         NaN   \n",
      "             358698689                 NaN                         NaN   \n",
      "\n",
      "                       name:ja brand:website fast_food  \n",
      "element_type osmid                                      \n",
      "node         84910124      NaN           NaN       NaN  \n",
      "             358693043     NaN           NaN       NaN  \n",
      "             358695208     NaN           NaN       NaN  \n",
      "             358696695     NaN           NaN       NaN  \n",
      "             358698689     NaN           NaN       NaN  \n",
      "\n",
      "[5 rows x 317 columns]\n"
     ]
    }
   ],
   "source": [
    "import osmnx as ox\n",
    "import geopandas as gpd\n",
    "\n",
    "# Specify the location (place name, city, coordinates, or polygon)\n",
    "place_name = \"Alachua County, Florida, USA\"  # Replace with your desired location\n",
    "\n",
    "pois = ox.geometries_from_place(place_name, tags={'amenity': True})\n",
    "\n",
    "# Print the first few rows of the POI data\n",
    "print(pois.head())"
   ]
  },
  {
   "cell_type": "code",
   "execution_count": 5,
   "id": "a6f6a3bd",
   "metadata": {},
   "outputs": [
    {
     "data": {
      "text/plain": [
       "3890"
      ]
     },
     "execution_count": 5,
     "metadata": {},
     "output_type": "execute_result"
    }
   ],
   "source": [
    "len(pois)"
   ]
  },
  {
   "cell_type": "code",
   "execution_count": 6,
   "id": "d6578329",
   "metadata": {},
   "outputs": [
    {
     "data": {
      "text/plain": [
       "79"
      ]
     },
     "execution_count": 6,
     "metadata": {},
     "output_type": "execute_result"
    }
   ],
   "source": [
    "len(pois['amenity'].unique())"
   ]
  },
  {
   "cell_type": "code",
   "execution_count": 2,
   "id": "f8bca449",
   "metadata": {},
   "outputs": [],
   "source": [
    "# Analyze the data, plot it, or save it to a file\n",
    "pois.to_csv(\"Data/Gainesville/poi_data.csv\", index=False)  # Save the data to a CSV file\n",
    "\n",
    "# Specify the path where you want to save the GeoJSON file\n",
    "output_geojson_path = \"Data/Gainesville/alachua_county_poi.geojson\"\n",
    "\n",
    "# Save the GeoDataFrame as a GeoJSON file\n",
    "pois[['geometry', 'amenity', 'ele', 'name']].to_file(output_geojson_path, driver=\"GeoJSON\")"
   ]
  },
  {
   "cell_type": "markdown",
   "id": "b7bd3e28",
   "metadata": {},
   "source": [
    "### Duval County, Florida"
   ]
  },
  {
   "cell_type": "code",
   "execution_count": 11,
   "id": "5e6b56ab",
   "metadata": {},
   "outputs": [
    {
     "name": "stderr",
     "output_type": "stream",
     "text": [
      "C:\\Users\\Kaifa Lu\\AppData\\Local\\Temp\\ipykernel_20644\\3171679503.py:6: UserWarning: The `geometries` module and `geometries_from_X` functions have been renamed the `features` module and `features_from_X` functions. Use these instead. The `geometries` module and function names are deprecated and will be removed in a future release.\n",
      "  pois = ox.geometries_from_place(place_name, tags={'amenity': True})\n"
     ]
    },
    {
     "name": "stdout",
     "output_type": "stream",
     "text": [
      "                                          geometry           amenity   ele  \\\n",
      "element_type osmid                                                           \n",
      "node         358691064  POINT (-81.57120 30.35163)  place_of_worship    14   \n",
      "             358691684  POINT (-81.76492 30.27249)  place_of_worship  19;6   \n",
      "             358691754  POINT (-81.40536 30.29557)  place_of_worship     4   \n",
      "             358692219  POINT (-81.54203 30.28218)  place_of_worship    15   \n",
      "             358692566  POINT (-81.53363 30.32289)  place_of_worship    11   \n",
      "\n",
      "                       gnis:county_id           gnis:created gnis:feature_id  \\\n",
      "element_type osmid                                                             \n",
      "node         358691064            031             10/19/1979          277950   \n",
      "             358691684            031  10/19/1979;08/28/1987   278543;302852   \n",
      "             358691754            031             10/19/1979          278570   \n",
      "             358692219            031             10/19/1979          278985   \n",
      "             358692566            031             10/19/1979          279449   \n",
      "\n",
      "                       gnis:state_id                              name  \\\n",
      "element_type osmid                                                       \n",
      "node         358691064            12         Arlington Alliance Church   \n",
      "             358691684            12  Bethel Missionary Baptist Church   \n",
      "             358691754            12                  Bethlehem Church   \n",
      "             358692219            12            Blessed Trinity Church   \n",
      "             358692566            12                  Brookview Church   \n",
      "\n",
      "                         religion denomination  ... service picnic_table  \\\n",
      "element_type osmid                              ...                        \n",
      "node         358691064  christian          NaN  ...     NaN          NaN   \n",
      "             358691684  christian      baptist  ...     NaN          NaN   \n",
      "             358691754  christian          NaN  ...     NaN          NaN   \n",
      "             358692219  christian          NaN  ...     NaN          NaN   \n",
      "             358692566  christian          NaN  ...     NaN          NaN   \n",
      "\n",
      "                       building:part fire_station:type ways type  \\\n",
      "element_type osmid                                                 \n",
      "node         358691064           NaN               NaN  NaN  NaN   \n",
      "             358691684           NaN               NaN  NaN  NaN   \n",
      "             358691754           NaN               NaN  NaN  NaN   \n",
      "             358692219           NaN               NaN  NaN  NaN   \n",
      "             358692566           NaN               NaN  NaN  NaN   \n",
      "\n",
      "                       gnis:created_2 gnis:feature_id2 abandoned contact:phone  \n",
      "element_type osmid                                                              \n",
      "node         358691064            NaN              NaN       NaN           NaN  \n",
      "             358691684            NaN              NaN       NaN           NaN  \n",
      "             358691754            NaN              NaN       NaN           NaN  \n",
      "             358692219            NaN              NaN       NaN           NaN  \n",
      "             358692566            NaN              NaN       NaN           NaN  \n",
      "\n",
      "[5 rows x 249 columns]\n"
     ]
    }
   ],
   "source": [
    "import osmnx as ox\n",
    "import geopandas as gpd\n",
    "\n",
    "# Specify the location (place name, city, coordinates, or polygon)\n",
    "place_name = \"Duval County, Florida, USA\"  # Replace with your desired location\n",
    "\n",
    "pois = ox.geometries_from_place(place_name, tags={'amenity': True})\n",
    "\n",
    "# Print the first few rows of the POI data\n",
    "print(pois.head())"
   ]
  },
  {
   "cell_type": "code",
   "execution_count": 17,
   "id": "6c4d976d",
   "metadata": {},
   "outputs": [],
   "source": [
    "# Analyze the data, plot it, or save it to a file\n",
    "pois.to_csv(\"Data/Jacksonville/poi_data.csv\", index=False)  # Save the data to a CSV file\n",
    "\n",
    "# Specify the path where you want to save the GeoJSON file\n",
    "output_geojson_path = \"Data/Jacksonville/duval_county_poi.geojson\"\n",
    "\n",
    "# Save the GeoDataFrame as a GeoJSON file\n",
    "pois[['geometry', 'amenity', 'ele', 'name']].to_file(output_geojson_path, driver=\"GeoJSON\")"
   ]
  }
 ],
 "metadata": {
  "kernelspec": {
   "display_name": "Python 3 (ipykernel)",
   "language": "python",
   "name": "python3"
  },
  "language_info": {
   "codemirror_mode": {
    "name": "ipython",
    "version": 3
   },
   "file_extension": ".py",
   "mimetype": "text/x-python",
   "name": "python",
   "nbconvert_exporter": "python",
   "pygments_lexer": "ipython3",
   "version": "3.9.12"
  }
 },
 "nbformat": 4,
 "nbformat_minor": 5
}
